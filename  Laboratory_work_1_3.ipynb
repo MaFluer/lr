{
 "cells": [
  {
   "cell_type": "markdown",
   "metadata": {},
   "source": [
    "# Лабораторная работа 1.3. \n",
    "## Метод прогонки для решения трёхдиагональных СЛАУ.\n",
    "\n",
    "---\n",
    "\n",
    "Студент: **Шагимарданов Владислав**\n",
    "\n",
    "Группа: **РК4-92**\n",
    "\n",
    "Вариант(по журналу): 7"
   ]
  },
  {
   "cell_type": "code",
   "execution_count": 118,
   "metadata": {},
   "outputs": [],
   "source": [
    "import numpy as np"
   ]
  },
  {
   "attachments": {
    "image.png": {
     "image/png": "[encoded data removed]"
    }
   },
   "cell_type": "markdown",
   "metadata": {},
   "source": [
    "![image.png](attachment:image.png)"
   ]
  },
  {
   "cell_type": "code",
   "execution_count": 119,
   "metadata": {},
   "outputs": [],
   "source": [
    "A1 = np.array([[1., 3, 0, 0],\n",
    "              [9, -7, -10, 0],\n",
    "              [0, -7, -10, -3],\n",
    "              [0, 0, 3, 1]])\n",
    "B1 = np.array([-12., -74, 10, -1])"
   ]
  },
  {
   "cell_type": "code",
   "execution_count": 120,
   "metadata": {},
   "outputs": [],
   "source": [
    "def forward_move(A, B):\n",
    "    \"\"\"\n",
    "    Прямой ход, вычиляем коэффициенты альфа и бета\n",
    "    \"\"\"\n",
    "    # Подготовим списки с нулями для дальнейшего заполнения\n",
    "    alpha = [0. for i in range(A.shape[0] - 1)]\n",
    "    beta = [0. for i in range(B.shape[0])]\n",
    "    \n",
    "    # Найдём значения первых коэффициентов\n",
    "    alpha[0] = - A[0][1] / A[0][0]\n",
    "    beta[0] = B[0] / A[0][0]\n",
    "    \n",
    "    # Цикл для нахождения остальных коэффициентов\n",
    "    for i in range(1, A.shape[0] - 1):\n",
    "        alpha[i] = - A[i][i+1] / (A[i][i] + alpha[i-1] * A[i][i-1])\n",
    "        beta[i] = (B[i] - beta[i-1] * A[i][i-1]) / (A[i][i] + alpha[i-1] * A[i][i-1])\n",
    "    \n",
    "    # Остался последний коэфиициент бета\n",
    "    beta[A.shape[0] - 1] = (B[A.shape[0] - 1] - beta[A.shape[0] - 2] * A[A.shape[0] - 1][A.shape[0] - 2])\\\n",
    "                    / (A[A.shape[0] - 1][A.shape[0] - 1] + alpha[A.shape[0] - 2] * A[A.shape[0] - 1][A.shape[0] - 2])\n",
    "    return(alpha, beta)"
   ]
  },
  {
   "cell_type": "code",
   "execution_count": 121,
   "metadata": {},
   "outputs": [],
   "source": [
    "def back_move(alpha, beta, A, B):\n",
    "    \"\"\"\n",
    "    Функция для вычиления решения СЛАУ с помощью обратного хода\n",
    "    \"\"\"\n",
    "    # Будущий список с решениями\n",
    "    y = [0 for i in range(A.shape[0])]\n",
    "    \n",
    "    # Последний коэффициент бета численно равен последнему корню\n",
    "    y[A.shape[0] - 1] = beta[A.shape[0] - 1]\n",
    "    \n",
    "    # Цикл для нахождения остальных корней\n",
    "    for i in range(A.shape[0] - 2, -1, -1):\n",
    "        y[i] = alpha[i] * y[i+1] + beta[i]\n",
    "    \n",
    "    # Красиво выведем решение\n",
    "    print('Alpha: ', alpha)\n",
    "    print('Beta: ', beta)\n",
    "    print('Корни СЛАУ:', y)"
   ]
  },
  {
   "cell_type": "code",
   "execution_count": 122,
   "metadata": {},
   "outputs": [],
   "source": [
    "def run_Forest_run(A, B):\n",
    "    \"\"\"\n",
    "    Функция для вывода решения по вводимой СЛАУ\n",
    "    \"\"\"\n",
    "    back_move(forward_move(A, B)[0],forward_move(A, B)[1], A, B)"
   ]
  },
  {
   "cell_type": "code",
   "execution_count": 123,
   "metadata": {},
   "outputs": [
    {
     "name": "stdout",
     "output_type": "stream",
     "text": [
      "Alpha:  [-3.0, -0.29411764705882354, -0.37777777777777777]\n",
      "Beta:  [-12.0, -1.0, -0.37777777777777777, -1.0]\n",
      "Корни СЛАУ: [-9.0, -1.0, 0.0, -1.0]\n"
     ]
    }
   ],
   "source": [
    "# Проверим работу функции\n",
    "run_Forest_run(A1, B1)"
   ]
  }
 ],
 "metadata": {
  "kernelspec": {
   "display_name": "Python 3",
   "language": "python",
   "name": "python3"
  },
  "language_info": {
   "codemirror_mode": {
    "name": "ipython",
    "version": 3
   },
   "file_extension": ".py",
   "mimetype": "text/x-python",
   "name": "python",
   "nbconvert_exporter": "python",
   "pygments_lexer": "ipython3",
   "version": "3.7.6"
  }
 },
 "nbformat": 4,
 "nbformat_minor": 4
}
