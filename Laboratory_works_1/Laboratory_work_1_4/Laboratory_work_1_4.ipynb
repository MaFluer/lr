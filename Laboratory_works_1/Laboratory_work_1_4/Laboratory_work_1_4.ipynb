{
  "nbformat": 4,
  "nbformat_minor": 0,
  "metadata": {
    "colab": {
      "name": "Laboratory_work_1_4",
      "provenance": [],
      "collapsed_sections": []
    },
    "kernelspec": {
      "name": "python3",
      "display_name": "Python 3"
    }
  },
  "cells": [
    {
      "cell_type": "markdown",
      "metadata": {
        "id": "ueFvbPBWXkcU"
      },
      "source": [
        "# Лабораторная работа 1.4. \n",
        "## Приближённое решение уравнений итерационными методами.\n",
        "\n",
        "---\n",
        "\n",
        "Студент: **Шагимарданов Владислав**\n",
        "\n",
        "Группа: **РК4-92**\n",
        "\n",
        "Вариант(по журналу): 7"
      ]
    },
    {
      "cell_type": "code",
      "metadata": {
        "id": "so5hZ0CxXIqr"
      },
      "source": [
        "import matplotlib.pyplot as plt\n",
        "import math\n",
        "import numpy as np"
      ],
      "execution_count": null,
      "outputs": []
    },
    {
      "cell_type": "code",
      "metadata": {
        "id": "1_Ktp7v3UMom"
      },
      "source": [
        "def func_x(x):\n",
        "  \"\"\"\n",
        "  Возвращаем значение искомой функции при вводимой переменной\n",
        "  \"\"\"\n",
        "  return math.exp(-x) - x"
      ],
      "execution_count": null,
      "outputs": []
    },
    {
      "cell_type": "code",
      "metadata": {
        "id": "o0KIDy_QYffZ"
      },
      "source": [
        "# Создадим два списка для построения графика\n",
        "# Лист переменных х\n",
        "xlist = list(np.arange(-10, 10, .1))\n",
        "# Лист со значениями функции при этих переменных\n",
        "ylist = list(map(func_x, xlist))"
      ],
      "execution_count": null,
      "outputs": []
    },
    {
      "cell_type": "code",
      "metadata": {
        "id": "MkaRflNGBJgw",
        "outputId": "9d0f1005-d0cf-4648-9daa-79f3954c9d1a",
        "colab": {
          "base_uri": "https://localhost:8080/",
          "height": 295
        }
      },
      "source": [
        "# Нарисуем график\n",
        "plt.plot(xlist, ylist)\n",
        "plt.ylim(-20, 20)\n",
        "plt.grid()\n",
        "plt.title('e^(-x) - x')\n",
        "plt.xlabel('x')\n",
        "plt.ylabel('y(x)');"
      ],
      "execution_count": null,
      "outputs": [
        {
          "output_type": "display_data",
          "data": {
            "image/png": "[encoded data removed]",
            "text/plain": [
              "<Figure size 432x288 with 1 Axes>"
            ]
          },
          "metadata": {
            "tags": [],
            "needs_background": "light"
          }
        }
      ]
    },
    {
      "cell_type": "markdown",
      "metadata": {
        "id": "_nyDkgpIijpp"
      },
      "source": [
        "Функция, полученная из исходного уравнения, выпуклая при всех значениях x(посчитал в уме производную, она всегда отрицательная)\n",
        "\n",
        "Это означает, что наше уравнение имеет один корень, так как искомая функция пересекает ось х один раз ."
      ]
    },
    {
      "cell_type": "markdown",
      "metadata": {
        "id": "TbXTaAb0Fn2r"
      },
      "source": [
        "## Метод половинного деления\n"
      ]
    },
    {
      "cell_type": "code",
      "metadata": {
        "id": "jiGny_tIFvo4"
      },
      "source": [
        "def halving(x_left, x_right, er = 1e-6):\n",
        "  \"\"\"\n",
        "  Функция, осуществляющая поиск корня методом половинного деления в ззаданном промежутке\n",
        "  \"\"\"\n",
        "  # Ставим счетчик на ноль\n",
        "  i = 0\n",
        "\n",
        "  # Проверяем промежуток на различие знаков значений функции на нём\n",
        "  if func_x(x_left) / func_x(x_right) > 0:\n",
        "    return ('Корней в заданном промежутке не найдено')\n",
        "  else:\n",
        "    while abs(x_right - x_left) > er:\n",
        "      # Счет итераций\n",
        "      i += 1\n",
        "      # Ищем середину \n",
        "      x_half = (x_right + x_left) / 2\n",
        "      # Если левая половина разнознаковая, то корень в этой стороне и следует назначить новые границы\n",
        "      if func_x(x_half) / func_x(x_left) < 0:\n",
        "        x_right = x_half\n",
        "      # Если правая половина -//-\n",
        "      else:\n",
        "        x_left = x_half\n",
        "    # Выводим результат\n",
        "    print('X =', x_half)\n",
        "    print('Количество итераций для нахождения корня:', i)"
      ],
      "execution_count": null,
      "outputs": []
    },
    {
      "cell_type": "code",
      "metadata": {
        "id": "LyffEbpNKuJK",
        "outputId": "f067441d-6761-40e6-baef-8af0ee59c819",
        "colab": {
          "base_uri": "https://localhost:8080/",
          "height": 50
        }
      },
      "source": [
        "# Найдем решение\n",
        "halving(-15, 5)"
      ],
      "execution_count": null,
      "outputs": [
        {
          "output_type": "stream",
          "text": [
            "X = 0.5671435594558716\n",
            "Количество итераций для нахождения корня: 25\n"
          ],
          "name": "stdout"
        }
      ]
    },
    {
      "cell_type": "markdown",
      "metadata": {
        "id": "wVPJsAkRVPXf"
      },
      "source": [
        "## Метод секущих"
      ]
    },
    {
      "cell_type": "code",
      "metadata": {
        "id": "HvR4FzvtVT03"
      },
      "source": [
        "def secant_method(x_left, x_right, er = 1e-6):\n",
        "  \"\"\"\n",
        "  Функция, осуществляющая поиск корня методом секущих(хорд)\n",
        "  \"\"\"\n",
        "  # Счетчик итераций\n",
        "  i = 0\n",
        "\n",
        "  # Проверка промежутка на наличие корней\n",
        "  if func_x(x_left) / func_x(x_right) > 0:\n",
        "    return ('Корней в заданном промежутке не найдено')\n",
        "  else:\n",
        "    # Находим первое приближение\n",
        "    x_new = x_right - (x_right - x_left) * func_x(x_right) / (func_x(x_right) - func_x(x_left))\n",
        "    while abs(func_x(x_new)) > er:\n",
        "      # Счет итераций\n",
        "      i += 1\n",
        "      # Условие ненужное для моего варианта, но исключающее возможность проскочить корень\n",
        "      if func_x(x_new) / func_x(x_left) < 0:\n",
        "        x_right = x_new\n",
        "        # Последующее приближение\n",
        "        x_new = x_right - (x_right - x_left) * func_x(x_right) / (func_x(x_right) - func_x(x_left))\n",
        "      else:\n",
        "        x_left = x_new\n",
        "        # Последующее приближение\n",
        "        x_new = x_right - (x_right - x_left) * func_x(x_right) / (func_x(x_right) - func_x(x_left))\n",
        "    \n",
        "    # Вывод результата\n",
        "    print('X =', x_new)\n",
        "    print('Количество итераций для нахождения корня:', i)"
      ],
      "execution_count": null,
      "outputs": []
    },
    {
      "cell_type": "code",
      "metadata": {
        "id": "4Kv0dVleZpyc",
        "outputId": "b6b5b6f2-c4e2-4644-a7c0-db851ab595cb",
        "colab": {
          "base_uri": "https://localhost:8080/",
          "height": 50
        }
      },
      "source": [
        "# И наше решение\n",
        "secant_method(0, 10)"
      ],
      "execution_count": null,
      "outputs": [
        {
          "output_type": "stream",
          "text": [
            "X = 0.5671439067736868\n",
            "Количество итераций для нахождения корня: 6\n"
          ],
          "name": "stdout"
        }
      ]
    }
  ]
}